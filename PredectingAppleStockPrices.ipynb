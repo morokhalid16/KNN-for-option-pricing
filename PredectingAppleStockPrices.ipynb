{
  "nbformat": 4,
  "nbformat_minor": 0,
  "metadata": {
    "colab": {
      "name": "PredectingAppleStockPrices.ipynb",
      "provenance": [],
      "authorship_tag": "ABX9TyNrFxk2PSaOesN36hG3jVfO",
      "include_colab_link": true
    },
    "kernelspec": {
      "name": "python3",
      "display_name": "Python 3"
    }
  },
  "cells": [
    {
      "cell_type": "markdown",
      "metadata": {
        "id": "view-in-github",
        "colab_type": "text"
      },
      "source": [
        "<a href=\"https://colab.research.google.com/github/morokhalid16/KNN-for-option-pricing/blob/master/PredectingAppleStockPrices.ipynb\" target=\"_parent\"><img src=\"https://colab.research.google.com/assets/colab-badge.svg\" alt=\"Open In Colab\"/></a>"
      ]
    },
    {
      "cell_type": "code",
      "metadata": {
        "id": "LgQXfWgpO42a",
        "colab_type": "code",
        "colab": {}
      },
      "source": [
        "# USe ANN called LSTM Long Short Term Memory to predict closing stock prices of Apple using the past 60 days  stock price\n"
      ],
      "execution_count": 0,
      "outputs": []
    },
    {
      "cell_type": "code",
      "metadata": {
        "id": "B-buclZrPImX",
        "colab_type": "code",
        "colab": {}
      },
      "source": [
        "import math\n",
        "import numpy as np\n",
        "import pandas_datareader as web\n",
        "import pandas as pd\n",
        "from sklearn.preprocessing import MinMaxScaler\n",
        "from tensorflow.keras.models import Sequential\n",
        "from tensorflow.keras.layers import Dense, LSTM\n",
        "import matplotlib.pyplot as plt\n",
        "plt.style.use('fivethirtyeight')"
      ],
      "execution_count": 0,
      "outputs": []
    },
    {
      "cell_type": "code",
      "metadata": {
        "id": "VaHzrIzjQM0O",
        "colab_type": "code",
        "colab": {
          "base_uri": "https://localhost:8080/",
          "height": 450
        },
        "outputId": "37083b9a-22b3-4565-de5c-6ba6686f822e"
      },
      "source": [
        "#get the stock quote\n",
        "df=web.DataReader('AAPL',data_source='yahoo',start='2010-01-01', end='2020-03-01')\n",
        "#show data\n",
        "df\n"
      ],
      "execution_count": 42,
      "outputs": [
        {
          "output_type": "execute_result",
          "data": {
            "text/html": [
              "<div>\n",
              "<style scoped>\n",
              "    .dataframe tbody tr th:only-of-type {\n",
              "        vertical-align: middle;\n",
              "    }\n",
              "\n",
              "    .dataframe tbody tr th {\n",
              "        vertical-align: top;\n",
              "    }\n",
              "\n",
              "    .dataframe thead th {\n",
              "        text-align: right;\n",
              "    }\n",
              "</style>\n",
              "<table border=\"1\" class=\"dataframe\">\n",
              "  <thead>\n",
              "    <tr style=\"text-align: right;\">\n",
              "      <th></th>\n",
              "      <th>High</th>\n",
              "      <th>Low</th>\n",
              "      <th>Open</th>\n",
              "      <th>Close</th>\n",
              "      <th>Volume</th>\n",
              "      <th>Adj Close</th>\n",
              "    </tr>\n",
              "    <tr>\n",
              "      <th>Date</th>\n",
              "      <th></th>\n",
              "      <th></th>\n",
              "      <th></th>\n",
              "      <th></th>\n",
              "      <th></th>\n",
              "      <th></th>\n",
              "    </tr>\n",
              "  </thead>\n",
              "  <tbody>\n",
              "    <tr>\n",
              "      <th>2010-01-04</th>\n",
              "      <td>30.642857</td>\n",
              "      <td>30.340000</td>\n",
              "      <td>30.490000</td>\n",
              "      <td>30.572857</td>\n",
              "      <td>123432400.0</td>\n",
              "      <td>26.538483</td>\n",
              "    </tr>\n",
              "    <tr>\n",
              "      <th>2010-01-05</th>\n",
              "      <td>30.798571</td>\n",
              "      <td>30.464285</td>\n",
              "      <td>30.657143</td>\n",
              "      <td>30.625713</td>\n",
              "      <td>150476200.0</td>\n",
              "      <td>26.584366</td>\n",
              "    </tr>\n",
              "    <tr>\n",
              "      <th>2010-01-06</th>\n",
              "      <td>30.747143</td>\n",
              "      <td>30.107143</td>\n",
              "      <td>30.625713</td>\n",
              "      <td>30.138571</td>\n",
              "      <td>138040000.0</td>\n",
              "      <td>26.161509</td>\n",
              "    </tr>\n",
              "    <tr>\n",
              "      <th>2010-01-07</th>\n",
              "      <td>30.285715</td>\n",
              "      <td>29.864286</td>\n",
              "      <td>30.250000</td>\n",
              "      <td>30.082857</td>\n",
              "      <td>119282800.0</td>\n",
              "      <td>26.113146</td>\n",
              "    </tr>\n",
              "    <tr>\n",
              "      <th>2010-01-08</th>\n",
              "      <td>30.285715</td>\n",
              "      <td>29.865715</td>\n",
              "      <td>30.042856</td>\n",
              "      <td>30.282858</td>\n",
              "      <td>111902700.0</td>\n",
              "      <td>26.286753</td>\n",
              "    </tr>\n",
              "    <tr>\n",
              "      <th>...</th>\n",
              "      <td>...</td>\n",
              "      <td>...</td>\n",
              "      <td>...</td>\n",
              "      <td>...</td>\n",
              "      <td>...</td>\n",
              "      <td>...</td>\n",
              "    </tr>\n",
              "    <tr>\n",
              "      <th>2020-02-24</th>\n",
              "      <td>304.179993</td>\n",
              "      <td>289.230011</td>\n",
              "      <td>297.260010</td>\n",
              "      <td>298.179993</td>\n",
              "      <td>55548800.0</td>\n",
              "      <td>298.179993</td>\n",
              "    </tr>\n",
              "    <tr>\n",
              "      <th>2020-02-25</th>\n",
              "      <td>302.529999</td>\n",
              "      <td>286.130005</td>\n",
              "      <td>300.950012</td>\n",
              "      <td>288.079987</td>\n",
              "      <td>57668400.0</td>\n",
              "      <td>288.079987</td>\n",
              "    </tr>\n",
              "    <tr>\n",
              "      <th>2020-02-26</th>\n",
              "      <td>297.880005</td>\n",
              "      <td>286.500000</td>\n",
              "      <td>286.529999</td>\n",
              "      <td>292.649994</td>\n",
              "      <td>49513700.0</td>\n",
              "      <td>292.649994</td>\n",
              "    </tr>\n",
              "    <tr>\n",
              "      <th>2020-02-27</th>\n",
              "      <td>286.000000</td>\n",
              "      <td>272.959991</td>\n",
              "      <td>281.100006</td>\n",
              "      <td>273.519989</td>\n",
              "      <td>80151400.0</td>\n",
              "      <td>273.519989</td>\n",
              "    </tr>\n",
              "    <tr>\n",
              "      <th>2020-02-28</th>\n",
              "      <td>278.410004</td>\n",
              "      <td>256.369995</td>\n",
              "      <td>257.260010</td>\n",
              "      <td>273.359985</td>\n",
              "      <td>106721200.0</td>\n",
              "      <td>273.359985</td>\n",
              "    </tr>\n",
              "  </tbody>\n",
              "</table>\n",
              "<p>2556 rows × 6 columns</p>\n",
              "</div>"
            ],
            "text/plain": [
              "                  High         Low  ...       Volume   Adj Close\n",
              "Date                                ...                         \n",
              "2010-01-04   30.642857   30.340000  ...  123432400.0   26.538483\n",
              "2010-01-05   30.798571   30.464285  ...  150476200.0   26.584366\n",
              "2010-01-06   30.747143   30.107143  ...  138040000.0   26.161509\n",
              "2010-01-07   30.285715   29.864286  ...  119282800.0   26.113146\n",
              "2010-01-08   30.285715   29.865715  ...  111902700.0   26.286753\n",
              "...                ...         ...  ...          ...         ...\n",
              "2020-02-24  304.179993  289.230011  ...   55548800.0  298.179993\n",
              "2020-02-25  302.529999  286.130005  ...   57668400.0  288.079987\n",
              "2020-02-26  297.880005  286.500000  ...   49513700.0  292.649994\n",
              "2020-02-27  286.000000  272.959991  ...   80151400.0  273.519989\n",
              "2020-02-28  278.410004  256.369995  ...  106721200.0  273.359985\n",
              "\n",
              "[2556 rows x 6 columns]"
            ]
          },
          "metadata": {
            "tags": []
          },
          "execution_count": 42
        }
      ]
    },
    {
      "cell_type": "code",
      "metadata": {
        "id": "QOZ4cYfWQ6AH",
        "colab_type": "code",
        "colab": {
          "base_uri": "https://localhost:8080/",
          "height": 34
        },
        "outputId": "58aa90b7-ea48-494d-e3a6-126bbafb2936"
      },
      "source": [
        "df.shape"
      ],
      "execution_count": 43,
      "outputs": [
        {
          "output_type": "execute_result",
          "data": {
            "text/plain": [
              "(2556, 6)"
            ]
          },
          "metadata": {
            "tags": []
          },
          "execution_count": 43
        }
      ]
    },
    {
      "cell_type": "code",
      "metadata": {
        "id": "OV5dCeVBRMe8",
        "colab_type": "code",
        "colab": {
          "base_uri": "https://localhost:8080/",
          "height": 559
        },
        "outputId": "1b30b4f1-1a33-44bd-8f6f-33b57d0af860"
      },
      "source": [
        "#visualize  close price\n",
        "plt.figure(figsize=(16,8))\n",
        "plt.title(\"Close price history\")\n",
        "plt.plot(df['Close'])\n",
        "plt.xlabel('Date',fontsize=20)\n",
        "plt.ylabel('Close price USD ($) ',fontsize=20)\n",
        "plt.show()\n",
        "\n"
      ],
      "execution_count": 44,
      "outputs": [
        {
          "output_type": "display_data",
          "data": {
            "image/png": "[encoded data removed]",
            "text/plain": [
              "<Figure size 1152x576 with 1 Axes>"
            ]
          },
          "metadata": {
            "tags": []
          }
        }
      ]
    },
    {
      "cell_type": "code",
      "metadata": {
        "id": "KX3dQ3LOSHhr",
        "colab_type": "code",
        "colab": {
          "base_uri": "https://localhost:8080/",
          "height": 34
        },
        "outputId": "ad2d78bb-5e65-47dc-bc1a-f4af13a8d1d8"
      },
      "source": [
        "#create new database with only column close\n",
        "data=df.filter(['Close'])\n",
        "# convert to numpy\n",
        "dataset=data.values\n",
        "#number of training data\n",
        "training_data_len=math.ceil(len(dataset)*.8)\n",
        "training_data_len"
      ],
      "execution_count": 45,
      "outputs": [
        {
          "output_type": "execute_result",
          "data": {
            "text/plain": [
              "2045"
            ]
          },
          "metadata": {
            "tags": []
          },
          "execution_count": 45
        }
      ]
    },
    {
      "cell_type": "code",
      "metadata": {
        "id": "mWtKppFMTzFH",
        "colab_type": "code",
        "colab": {
          "base_uri": "https://localhost:8080/",
          "height": 136
        },
        "outputId": "25819978-f727-4757-f77c-fe803ee772aa"
      },
      "source": [
        "#Scale data\n",
        "scaler =MinMaxScaler(feature_range=(0,1))\n",
        "scaled_data=scaler.fit_transform(dataset)\n",
        "scaled_data\n"
      ],
      "execution_count": 46,
      "outputs": [
        {
          "output_type": "execute_result",
          "data": {
            "text/plain": [
              "array([[0.01046536],\n",
              "       [0.01064169],\n",
              "       [0.0090166 ],\n",
              "       ...,\n",
              "       [0.88474272],\n",
              "       [0.8209259 ],\n",
              "       [0.82039213]])"
            ]
          },
          "metadata": {
            "tags": []
          },
          "execution_count": 46
        }
      ]
    },
    {
      "cell_type": "code",
      "metadata": {
        "id": "T53TBAPfUlC5",
        "colab_type": "code",
        "colab": {
          "base_uri": "https://localhost:8080/",
          "height": 833
        },
        "outputId": "fa76cda6-49d9-4b52-a248-c5718d676882"
      },
      "source": [
        "#Creat the training data set\n",
        "# sclaed training data set\n",
        "train_data=scaled_data[0:training_data_len,]\n",
        "#Split data\n",
        "X_train = []\n",
        "Y_train = []\n",
        "for i in range(60,training_data_len):\n",
        "  X_train.append(scaled_data[i-60:i,0])\n",
        "  Y_train.append(scaled_data[i,0])\n",
        "  if i<=61:\n",
        "    print(X_train)\n",
        "    print(Y_train)\n",
        "    print()\n",
        "\n"
      ],
      "execution_count": 47,
      "outputs": [
        {
          "output_type": "stream",
          "text": [
            "[array([1.04653630e-02, 1.06416897e-02, 9.01660433e-03, 8.83074613e-03,\n",
            "       9.49793954e-03, 8.60676186e-03, 7.46777113e-03, 8.86410644e-03,\n",
            "       8.28269668e-03, 6.61471952e-03, 1.09562233e-02, 9.37879559e-03,\n",
            "       7.63456630e-03, 2.71641848e-03, 5.25174452e-03, 6.61948528e-03,\n",
            "       7.54402326e-03, 3.45032614e-03, 4.76575809e-06, 1.27719135e-03,\n",
            "       1.81570929e-03, 3.42173159e-03, 0.00000000e+00, 1.62508533e-03,\n",
            "       9.86486473e-04, 1.97297931e-03, 1.46305592e-03, 3.15485550e-03,\n",
            "       3.96978105e-03, 5.40900818e-03, 5.00393146e-03, 5.18502391e-03,\n",
            "       4.58455111e-03, 3.98884408e-03, 2.38758754e-03, 4.10322227e-03,\n",
            "       4.74182113e-03, 5.99041794e-03, 8.07300968e-03, 8.00628907e-03,\n",
            "       8.23503910e-03, 8.89270099e-03, 1.28195966e-02, 1.28815451e-02,\n",
            "       1.47592156e-02, 1.56265581e-02, 1.59410981e-02, 1.64653188e-02,\n",
            "       1.51499950e-02, 1.54406999e-02, 1.52834362e-02, 1.55360151e-02,\n",
            "       1.43922586e-02, 1.55836726e-02, 1.73040668e-02, 1.77854020e-02,\n",
            "       1.64891412e-02, 1.85145439e-02, 1.92246227e-02, 2.08735369e-02])]\n",
            "[0.02046846651215685]\n",
            "\n",
            "[array([1.04653630e-02, 1.06416897e-02, 9.01660433e-03, 8.83074613e-03,\n",
            "       9.49793954e-03, 8.60676186e-03, 7.46777113e-03, 8.86410644e-03,\n",
            "       8.28269668e-03, 6.61471952e-03, 1.09562233e-02, 9.37879559e-03,\n",
            "       7.63456630e-03, 2.71641848e-03, 5.25174452e-03, 6.61948528e-03,\n",
            "       7.54402326e-03, 3.45032614e-03, 4.76575809e-06, 1.27719135e-03,\n",
            "       1.81570929e-03, 3.42173159e-03, 0.00000000e+00, 1.62508533e-03,\n",
            "       9.86486473e-04, 1.97297931e-03, 1.46305592e-03, 3.15485550e-03,\n",
            "       3.96978105e-03, 5.40900818e-03, 5.00393146e-03, 5.18502391e-03,\n",
            "       4.58455111e-03, 3.98884408e-03, 2.38758754e-03, 4.10322227e-03,\n",
            "       4.74182113e-03, 5.99041794e-03, 8.07300968e-03, 8.00628907e-03,\n",
            "       8.23503910e-03, 8.89270099e-03, 1.28195966e-02, 1.28815451e-02,\n",
            "       1.47592156e-02, 1.56265581e-02, 1.59410981e-02, 1.64653188e-02,\n",
            "       1.51499950e-02, 1.54406999e-02, 1.52834362e-02, 1.55360151e-02,\n",
            "       1.43922586e-02, 1.55836726e-02, 1.73040668e-02, 1.77854020e-02,\n",
            "       1.64891412e-02, 1.85145439e-02, 1.92246227e-02, 2.08735369e-02]), array([1.06416897e-02, 9.01660433e-03, 8.83074613e-03, 9.49793954e-03,\n",
            "       8.60676186e-03, 7.46777113e-03, 8.86410644e-03, 8.28269668e-03,\n",
            "       6.61471952e-03, 1.09562233e-02, 9.37879559e-03, 7.63456630e-03,\n",
            "       2.71641848e-03, 5.25174452e-03, 6.61948528e-03, 7.54402326e-03,\n",
            "       3.45032614e-03, 4.76575809e-06, 1.27719135e-03, 1.81570929e-03,\n",
            "       3.42173159e-03, 0.00000000e+00, 1.62508533e-03, 9.86486473e-04,\n",
            "       1.97297931e-03, 1.46305592e-03, 3.15485550e-03, 3.96978105e-03,\n",
            "       5.40900818e-03, 5.00393146e-03, 5.18502391e-03, 4.58455111e-03,\n",
            "       3.98884408e-03, 2.38758754e-03, 4.10322227e-03, 4.74182113e-03,\n",
            "       5.99041794e-03, 8.07300968e-03, 8.00628907e-03, 8.23503910e-03,\n",
            "       8.89270099e-03, 1.28195966e-02, 1.28815451e-02, 1.47592156e-02,\n",
            "       1.56265581e-02, 1.59410981e-02, 1.64653188e-02, 1.51499950e-02,\n",
            "       1.54406999e-02, 1.52834362e-02, 1.55360151e-02, 1.43922586e-02,\n",
            "       1.55836726e-02, 1.73040668e-02, 1.77854020e-02, 1.64891412e-02,\n",
            "       1.85145439e-02, 1.92246227e-02, 2.08735369e-02, 2.04684665e-02])]\n",
            "[0.02046846651215685, 0.020930725958449317]\n",
            "\n"
          ],
          "name": "stdout"
        }
      ]
    },
    {
      "cell_type": "code",
      "metadata": {
        "id": "9T8RfifMcW7b",
        "colab_type": "code",
        "colab": {}
      },
      "source": [
        "#convert x_train and y_train to numpy\n",
        "X_train,Y_train=np.array(X_train),np.array(Y_train)\n"
      ],
      "execution_count": 0,
      "outputs": []
    },
    {
      "cell_type": "code",
      "metadata": {
        "id": "wTaal9XOcygq",
        "colab_type": "code",
        "colab": {
          "base_uri": "https://localhost:8080/",
          "height": 34
        },
        "outputId": "0bd08716-a6c7-48a4-9c5f-aec68ce5aea1"
      },
      "source": [
        "#Reshape data because LSTM model is expecting 3 dim rather than 2\n",
        "X_train=np.reshape(X_train,(X_train.shape[0],X_train.shape[1],1))\n",
        "X_train.shape"
      ],
      "execution_count": 49,
      "outputs": [
        {
          "output_type": "execute_result",
          "data": {
            "text/plain": [
              "(1985, 60, 1)"
            ]
          },
          "metadata": {
            "tags": []
          },
          "execution_count": 49
        }
      ]
    },
    {
      "cell_type": "code",
      "metadata": {
        "id": "9wv4gMi2dzml",
        "colab_type": "code",
        "colab": {}
      },
      "source": [
        "#Build the LSTM Model\n",
        "model=Sequential()\n",
        "model.add(LSTM(50,return_sequences=True,input_shape=(X_train.shape[1],1)))\n",
        "model.add(LSTM(50,return_sequences=False))\n",
        "model.add(Dense(50))\n",
        "model.add(Dense(1))\n",
        "\n",
        " "
      ],
      "execution_count": 0,
      "outputs": []
    },
    {
      "cell_type": "code",
      "metadata": {
        "id": "xQGxmcXmfoVt",
        "colab_type": "code",
        "colab": {}
      },
      "source": [
        "#compile the model\n",
        "model.compile(optimizer='adam',loss='mean_squared_error')"
      ],
      "execution_count": 0,
      "outputs": []
    },
    {
      "cell_type": "code",
      "metadata": {
        "id": "BVly3H6Gf7Iu",
        "colab_type": "code",
        "colab": {
          "base_uri": "https://localhost:8080/",
          "height": 51
        },
        "outputId": "803ea7e0-4750-4272-b554-65de64e649e6"
      },
      "source": [
        "#train the model\n",
        "model.fit(X_train,Y_train,batch_size=1,epochs=1)"
      ],
      "execution_count": 59,
      "outputs": [
        {
          "output_type": "stream",
          "text": [
            "1985/1985 [==============================] - 46s 23ms/step - loss: 1.9135e-04\n"
          ],
          "name": "stdout"
        },
        {
          "output_type": "execute_result",
          "data": {
            "text/plain": [
              "<tensorflow.python.keras.callbacks.History at 0x7f720189c198>"
            ]
          },
          "metadata": {
            "tags": []
          },
          "execution_count": 59
        }
      ]
    },
    {
      "cell_type": "code",
      "metadata": {
        "id": "uxfZdx59lKiC",
        "colab_type": "code",
        "colab": {}
      },
      "source": [
        "#Creat the testing data set\n",
        "#creat a new array containing scaled values \n",
        "test_data=scaled_data[training_data_len-60:,:]\n",
        "X_test=[]\n",
        "Y_test=dataset[training_data_len:,:]\n",
        "for i in range(60,len(test_data)):\n",
        "  X_test.append(test_data[i-60:i,:])\n",
        "\n"
      ],
      "execution_count": 0,
      "outputs": []
    },
    {
      "cell_type": "code",
      "metadata": {
        "id": "ACrTOiaXz-9N",
        "colab_type": "code",
        "colab": {}
      },
      "source": [
        "#convert to numpy\n",
        "X_test=np.array(X_test)\n"
      ],
      "execution_count": 0,
      "outputs": []
    },
    {
      "cell_type": "code",
      "metadata": {
        "id": "5Cjj2MEF0Pu-",
        "colab_type": "code",
        "colab": {}
      },
      "source": [
        "#reshape\n",
        "X_test=np.reshape(X_test, (X_test.shape[0],X_test.shape[1],1) )"
      ],
      "execution_count": 0,
      "outputs": []
    },
    {
      "cell_type": "code",
      "metadata": {
        "id": "KRhluS-a08A8",
        "colab_type": "code",
        "colab": {}
      },
      "source": [
        "#Get the model's predicted price values\n",
        "predictions=model.predict(X_test)\n",
        "predictions=scaler.inverse_transform(predictions)\n"
      ],
      "execution_count": 0,
      "outputs": []
    },
    {
      "cell_type": "code",
      "metadata": {
        "id": "dfk5bNuS1aq3",
        "colab_type": "code",
        "colab": {
          "base_uri": "https://localhost:8080/",
          "height": 34
        },
        "outputId": "f698b72f-c456-4b89-9b56-08e5b5b7818b"
      },
      "source": [
        "#Model evaluation\n",
        "#Get the root mean squared erro (RMSE)\n",
        "rms=np.sqrt(np.mean(predictions-Y_test)**2)\n",
        "rms\n"
      ],
      "execution_count": 64,
      "outputs": [
        {
          "output_type": "execute_result",
          "data": {
            "text/plain": [
              "4.430438316031678"
            ]
          },
          "metadata": {
            "tags": []
          },
          "execution_count": 64
        }
      ]
    },
    {
      "cell_type": "code",
      "metadata": {
        "id": "32vHgkS52eME",
        "colab_type": "code",
        "colab": {
          "base_uri": "https://localhost:8080/",
          "height": 660
        },
        "outputId": "3a1588d9-9c94-4b78-cd77-a49d424d78ef"
      },
      "source": [
        "#plot the data\n",
        "train=data[:training_data_len]\n",
        "valid=data[training_data_len:]\n",
        "valid['predictions']=predictions\n",
        "#Visualize \n",
        "plt.figure(figsize=(16,8))\n",
        "plt.xlabel('Date')\n",
        "plt.ylabel('Close price USD ($)')\n",
        "plt.title('Model')\n",
        "plt.plot(train['Close'])\n",
        "plt.plot(valid[['Close','predictions']])\n",
        "plt.legend(['Train','Valid','Predictions'], loc='lower right')\n",
        "plt.show()\n"
      ],
      "execution_count": 66,
      "outputs": [
        {
          "output_type": "stream",
          "text": [
            "/usr/local/lib/python3.6/dist-packages/ipykernel_launcher.py:3: SettingWithCopyWarning: \n",
            "A value is trying to be set on a copy of a slice from a DataFrame.\n",
            "Try using .loc[row_indexer,col_indexer] = value instead\n",
            "\n",
            "See the caveats in the documentation: https://pandas.pydata.org/pandas-docs/stable/user_guide/indexing.html#returning-a-view-versus-a-copy\n",
            "  This is separate from the ipykernel package so we can avoid doing imports until\n"
          ],
          "name": "stderr"
        },
        {
          "output_type": "display_data",
          "data": {
            "image/png": "[encoded data removed]",
            "text/plain": [
              "<Figure size 1152x576 with 1 Axes>"
            ]
          },
          "metadata": {
            "tags": []
          }
        }
      ]
    },
    {
      "cell_type": "code",
      "metadata": {
        "id": "UZdAkWvu5f3w",
        "colab_type": "code",
        "colab": {
          "base_uri": "https://localhost:8080/",
          "height": 450
        },
        "outputId": "e5e85e70-c104-42da-9134-8aace5a36d6a"
      },
      "source": [
        "#Show valid and prediction prices\n",
        "valid"
      ],
      "execution_count": 67,
      "outputs": [
        {
          "output_type": "execute_result",
          "data": {
            "text/html": [
              "<div>\n",
              "<style scoped>\n",
              "    .dataframe tbody tr th:only-of-type {\n",
              "        vertical-align: middle;\n",
              "    }\n",
              "\n",
              "    .dataframe tbody tr th {\n",
              "        vertical-align: top;\n",
              "    }\n",
              "\n",
              "    .dataframe thead th {\n",
              "        text-align: right;\n",
              "    }\n",
              "</style>\n",
              "<table border=\"1\" class=\"dataframe\">\n",
              "  <thead>\n",
              "    <tr style=\"text-align: right;\">\n",
              "      <th></th>\n",
              "      <th>Close</th>\n",
              "      <th>predictions</th>\n",
              "    </tr>\n",
              "    <tr>\n",
              "      <th>Date</th>\n",
              "      <th></th>\n",
              "      <th></th>\n",
              "    </tr>\n",
              "  </thead>\n",
              "  <tbody>\n",
              "    <tr>\n",
              "      <th>2018-02-16</th>\n",
              "      <td>172.429993</td>\n",
              "      <td>165.324112</td>\n",
              "    </tr>\n",
              "    <tr>\n",
              "      <th>2018-02-20</th>\n",
              "      <td>171.850006</td>\n",
              "      <td>167.971115</td>\n",
              "    </tr>\n",
              "    <tr>\n",
              "      <th>2018-02-21</th>\n",
              "      <td>171.070007</td>\n",
              "      <td>169.753586</td>\n",
              "    </tr>\n",
              "    <tr>\n",
              "      <th>2018-02-22</th>\n",
              "      <td>172.500000</td>\n",
              "      <td>170.624817</td>\n",
              "    </tr>\n",
              "    <tr>\n",
              "      <th>2018-02-23</th>\n",
              "      <td>175.500000</td>\n",
              "      <td>171.214691</td>\n",
              "    </tr>\n",
              "    <tr>\n",
              "      <th>...</th>\n",
              "      <td>...</td>\n",
              "      <td>...</td>\n",
              "    </tr>\n",
              "    <tr>\n",
              "      <th>2020-02-24</th>\n",
              "      <td>298.179993</td>\n",
              "      <td>303.041351</td>\n",
              "    </tr>\n",
              "    <tr>\n",
              "      <th>2020-02-25</th>\n",
              "      <td>288.079987</td>\n",
              "      <td>297.637268</td>\n",
              "    </tr>\n",
              "    <tr>\n",
              "      <th>2020-02-26</th>\n",
              "      <td>292.649994</td>\n",
              "      <td>290.368073</td>\n",
              "    </tr>\n",
              "    <tr>\n",
              "      <th>2020-02-27</th>\n",
              "      <td>273.519989</td>\n",
              "      <td>285.234802</td>\n",
              "    </tr>\n",
              "    <tr>\n",
              "      <th>2020-02-28</th>\n",
              "      <td>273.359985</td>\n",
              "      <td>277.952301</td>\n",
              "    </tr>\n",
              "  </tbody>\n",
              "</table>\n",
              "<p>511 rows × 2 columns</p>\n",
              "</div>"
            ],
            "text/plain": [
              "                 Close  predictions\n",
              "Date                               \n",
              "2018-02-16  172.429993   165.324112\n",
              "2018-02-20  171.850006   167.971115\n",
              "2018-02-21  171.070007   169.753586\n",
              "2018-02-22  172.500000   170.624817\n",
              "2018-02-23  175.500000   171.214691\n",
              "...                ...          ...\n",
              "2020-02-24  298.179993   303.041351\n",
              "2020-02-25  288.079987   297.637268\n",
              "2020-02-26  292.649994   290.368073\n",
              "2020-02-27  273.519989   285.234802\n",
              "2020-02-28  273.359985   277.952301\n",
              "\n",
              "[511 rows x 2 columns]"
            ]
          },
          "metadata": {
            "tags": []
          },
          "execution_count": 67
        }
      ]
    },
    {
      "cell_type": "code",
      "metadata": {
        "id": "1Uu97cbr5qCE",
        "colab_type": "code",
        "colab": {}
      },
      "source": [
        ""
      ],
      "execution_count": 0,
      "outputs": []
    }
  ]
}